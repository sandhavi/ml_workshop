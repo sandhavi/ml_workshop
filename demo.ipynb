{
  "cells": [
    {
      "cell_type": "markdown",
      "metadata": {
        "id": "zAVlAIFp2VBQ"
      },
      "source": [
        "## IRIS DATASET"
      ]
    },
    {
      "cell_type": "markdown",
      "metadata": {
        "id": "6VI3csCC2Lmo"
      },
      "source": [
        "#### Loading a Sample Dataset"
      ]
    },
    {
      "cell_type": "markdown",
      "metadata": {
        "id": "py0mJWgZ0a9v"
      },
      "source": [
        "The Iris dataset is a classic dataset in machine learning, often used for pattern recognition. It contains 150 samples of iris flowers, with 4 features (sepal length, sepal width, petal length, petal width) and 3 target classes (species of iris flowers)."
      ]
    },
    {
      "cell_type": "code",
      "execution_count": null,
      "metadata": {
        "id": "AFX9TwdZ0c0F"
      },
      "outputs": [],
      "source": [
        "from sklearn.datasets import load_iris\n",
        "import pandas as pd\n",
        "\n",
        "# Load the dataset\n",
        "iris = load_iris()\n",
        "\n",
        "# Convert to DataFrame for easier manipulation\n",
        "df = pd.DataFrame(data=iris.data, columns=iris.feature_names)\n",
        "\n",
        "# Add the target column\n",
        "df['species'] = iris.target"
      ]
    },
    {
      "cell_type": "markdown",
      "metadata": {
        "id": "dEc2_jU80foM"
      },
      "source": [
        "#### **Basic Data Exploration with Pandas**"
      ]
    },
    {
      "cell_type": "markdown",
      "metadata": {
        "id": "4WwLFNQ30lHp"
      },
      "source": [
        "##### View the First Few Rows"
      ]
    },
    {
      "cell_type": "code",
      "execution_count": null,
      "metadata": {
        "colab": {
          "base_uri": "https://localhost:8080/"
        },
        "id": "yxjmSlUd0gpw",
        "outputId": "e57cbd6d-43b0-4300-d258-b50ef2285bab"
      },
      "outputs": [],
      "source": [
        "print(df.head())"
      ]
    },
    {
      "cell_type": "markdown",
      "metadata": {
        "id": "MgQBHa9W00c8"
      },
      "source": [
        "##### Get a Summary of the Data"
      ]
    },
    {
      "cell_type": "code",
      "execution_count": null,
      "metadata": {
        "colab": {
          "base_uri": "https://localhost:8080/"
        },
        "id": "301nk_CT02Xz",
        "outputId": "a813924a-0deb-4bf3-9deb-94221fcfbdc1"
      },
      "outputs": [],
      "source": [
        "print(df.info())"
      ]
    },
    {
      "cell_type": "markdown",
      "metadata": {
        "id": "ZiMinqIH0_HK"
      },
      "source": [
        "##### Descriptive Statistics"
      ]
    },
    {
      "cell_type": "code",
      "execution_count": null,
      "metadata": {
        "colab": {
          "base_uri": "https://localhost:8080/"
        },
        "id": "WzY_8m4d1CLP",
        "outputId": "820d77bc-2e2e-42e4-e9f6-42ac6b018e1c"
      },
      "outputs": [],
      "source": [
        "print(df.describe())"
      ]
    },
    {
      "cell_type": "markdown",
      "metadata": {
        "id": "dJaxNZmf1IxI"
      },
      "source": [
        "##### Check for Missing Values"
      ]
    },
    {
      "cell_type": "code",
      "execution_count": null,
      "metadata": {
        "colab": {
          "base_uri": "https://localhost:8080/"
        },
        "id": "4ABiI7xT1MXF",
        "outputId": "05cb8c09-13a8-4432-bc60-8bc6b4be1ace"
      },
      "outputs": [],
      "source": [
        "print(df.isnull().sum())"
      ]
    },
    {
      "cell_type": "markdown",
      "metadata": {
        "id": "qUlvzvzn1V52"
      },
      "source": [
        "#### **Visualization**"
      ]
    },
    {
      "cell_type": "markdown",
      "metadata": {
        "id": "78tIrxv81ZmS"
      },
      "source": [
        "##### Pair Plot"
      ]
    },
    {
      "cell_type": "code",
      "execution_count": null,
      "metadata": {
        "colab": {
          "base_uri": "https://localhost:8080/",
          "height": 1000
        },
        "id": "lPLF8kdj1dYF",
        "outputId": "0e2dfc0f-18bf-4b3c-af7f-fbfda9ff7372"
      },
      "outputs": [],
      "source": [
        "import seaborn as sns\n",
        "import matplotlib.pyplot as plt\n",
        "\n",
        "sns.pairplot(df, hue='species', markers=[\"o\", \"s\", \"D\"])\n",
        "plt.suptitle(\"Pair Plot of Iris Dataset\", y=1.02)\n",
        "plt.show()"
      ]
    },
    {
      "cell_type": "markdown",
      "metadata": {
        "id": "N28HG5BX1rmA"
      },
      "source": [
        "##### Distribution Plots"
      ]
    },
    {
      "cell_type": "code",
      "execution_count": null,
      "metadata": {
        "colab": {
          "base_uri": "https://localhost:8080/",
          "height": 1000
        },
        "id": "CbG7eeym1t01",
        "outputId": "ec8af04b-5d10-4a05-e1e9-8243ed4fd200"
      },
      "outputs": [],
      "source": [
        "# Histogram for Petal Length\n",
        "sns.histplot(df['petal length (cm)'], kde=True)\n",
        "plt.title('Distribution of Petal Length')\n",
        "plt.show()\n",
        "\n",
        "# KDE Plot for Sepal Width\n",
        "sns.kdeplot(df['sepal width (cm)'], shade=True)\n",
        "plt.title('KDE Plot of Sepal Width')\n",
        "plt.show()"
      ]
    },
    {
      "cell_type": "markdown",
      "metadata": {
        "id": "DJkGYI-d11w4"
      },
      "source": [
        "##### Box Plot"
      ]
    },
    {
      "cell_type": "code",
      "execution_count": null,
      "metadata": {
        "colab": {
          "base_uri": "https://localhost:8080/",
          "height": 472
        },
        "id": "TiyKrgct14De",
        "outputId": "d0a2db24-2c46-4885-987d-2a68cd993272"
      },
      "outputs": [],
      "source": [
        "sns.boxplot(x='species', y='petal length (cm)', data=df)\n",
        "plt.title('Box Plot of Petal Length by Species')\n",
        "plt.show()"
      ]
    },
    {
      "cell_type": "markdown",
      "metadata": {
        "id": "c9iWqv9d16bw"
      },
      "source": [
        "##### Correlation Heatmap"
      ]
    },
    {
      "cell_type": "code",
      "execution_count": null,
      "metadata": {
        "colab": {
          "base_uri": "https://localhost:8080/",
          "height": 560
        },
        "id": "9OQcO_og19nd",
        "outputId": "51136fb5-9158-41d8-e63b-2cdebd8e2148"
      },
      "outputs": [],
      "source": [
        "correlation = df.corr()\n",
        "\n",
        "sns.heatmap(correlation, annot=True, cmap='coolwarm', fmt='.2f')\n",
        "plt.title('Correlation Heatmap of Features')\n",
        "plt.show()"
      ]
    }
  ],
  "metadata": {
    "colab": {
      "provenance": [],
      "toc_visible": true
    },
    "kernelspec": {
      "display_name": "Python 3",
      "name": "python3"
    },
    "language_info": {
      "name": "python"
    }
  },
  "nbformat": 4,
  "nbformat_minor": 0
}
