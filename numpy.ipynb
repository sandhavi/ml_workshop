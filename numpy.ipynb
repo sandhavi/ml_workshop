{
  "cells": [
    {
      "cell_type": "markdown",
      "metadata": {
        "id": "VAPoo4sfR2gk"
      },
      "source": [
        "## **NumPy**"
      ]
    },
    {
      "cell_type": "markdown",
      "metadata": {
        "id": "UPG8yJb8Rs9u"
      },
      "source": [
        "NumPy (Numerical Python) is a foundational library for numerical computations in Python. It provides support for large multi-dimensional arrays and matrices, along with a collection of mathematical functions to operate on these arrays."
      ]
    },
    {
      "cell_type": "markdown",
      "metadata": {
        "id": "u9FmToSXVE15"
      },
      "source": [
        "**import NumPy**"
      ]
    },
    {
      "cell_type": "code",
      "execution_count": null,
      "metadata": {
        "id": "qubUOPpMQrhV"
      },
      "outputs": [],
      "source": [
        "import numpy as np"
      ]
    },
    {
      "cell_type": "markdown",
      "metadata": {
        "id": "MYChtw84VMeo"
      },
      "source": [
        "**Basic Operations**"
      ]
    },
    {
      "cell_type": "markdown",
      "metadata": {
        "id": "kWfSowoQVPii"
      },
      "source": [
        "##### Creating Arrays"
      ]
    },
    {
      "cell_type": "code",
      "execution_count": null,
      "metadata": {
        "colab": {
          "base_uri": "https://localhost:8080/"
        },
        "id": "7h6m5qWgSTqi",
        "outputId": "2df8e11e-48ca-4c99-d1fe-453b098bbf10"
      },
      "outputs": [],
      "source": [
        "# 1D Array\n",
        "array_1d = np.array([1,2,3,4,5])\n",
        "print(array_1d)"
      ]
    },
    {
      "cell_type": "code",
      "execution_count": null,
      "metadata": {
        "colab": {
          "base_uri": "https://localhost:8080/"
        },
        "id": "6MP15T0vT0mZ",
        "outputId": "a1f03aaf-e261-4b91-cad6-4350fc24cc17"
      },
      "outputs": [],
      "source": [
        "# 2D Array\n",
        "array_2d = np.array([[1,2,3],[4,5,6]])\n",
        "print(array_2d)"
      ]
    },
    {
      "cell_type": "code",
      "execution_count": null,
      "metadata": {
        "colab": {
          "base_uri": "https://localhost:8080/"
        },
        "id": "ACp5aKf1T3EI",
        "outputId": "944a8b36-1258-44ad-dbad-a3c9a1460b00"
      },
      "outputs": [],
      "source": [
        "# Creta an array of zeros\n",
        "zeros = np.zeros((3,3))\n",
        "print(zeros)"
      ]
    },
    {
      "cell_type": "code",
      "execution_count": null,
      "metadata": {
        "colab": {
          "base_uri": "https://localhost:8080/"
        },
        "id": "WhBLWDdpT4qU",
        "outputId": "f33d44fa-97d0-4817-b550-0432df52ba72"
      },
      "outputs": [],
      "source": [
        "# Create an array of ones\n",
        "ones = np.ones((2,4))\n",
        "print(ones)"
      ]
    },
    {
      "cell_type": "code",
      "execution_count": null,
      "metadata": {
        "colab": {
          "base_uri": "https://localhost:8080/"
        },
        "id": "PHcrYs16T6Pn",
        "outputId": "6239c289-5055-4407-beab-430e9d14b7c1"
      },
      "outputs": [],
      "source": [
        "# Create an array with a range of values\n",
        "range_array = np.arange(0,20,5)\n",
        "print(range_array)"
      ]
    },
    {
      "cell_type": "markdown",
      "metadata": {
        "id": "s9DzPKpkVlYR"
      },
      "source": [
        "##### Array Operations"
      ]
    },
    {
      "cell_type": "code",
      "execution_count": null,
      "metadata": {
        "colab": {
          "base_uri": "https://localhost:8080/"
        },
        "id": "noPOW7MVuNCx",
        "outputId": "a1895b01-8763-4adb-947d-fd4cf9581b06"
      },
      "outputs": [],
      "source": [
        "print(array_1d)"
      ]
    },
    {
      "cell_type": "code",
      "execution_count": null,
      "metadata": {
        "colab": {
          "base_uri": "https://localhost:8080/"
        },
        "id": "-aC0tdg8Vq8P",
        "outputId": "a58ee275-ecda-4821-c17b-01f18c3d2aac"
      },
      "outputs": [],
      "source": [
        "# Element-wise addition\n",
        "sum_array = array_1d + 10\n",
        "print(sum_array)"
      ]
    },
    {
      "cell_type": "code",
      "execution_count": null,
      "metadata": {
        "colab": {
          "base_uri": "https://localhost:8080/"
        },
        "id": "SyWhwOzsVuw1",
        "outputId": "b03d1372-4d85-4564-fb0b-d32f1e847dc9"
      },
      "outputs": [],
      "source": [
        "# Element-wise multiplication\n",
        "product_array = array_1d * 2\n",
        "print(product_array)"
      ]
    },
    {
      "cell_type": "code",
      "execution_count": null,
      "metadata": {
        "colab": {
          "base_uri": "https://localhost:8080/"
        },
        "id": "nM1gB13euUtN",
        "outputId": "2850cb60-a38c-4f45-c0a2-01b3db6beee3"
      },
      "outputs": [],
      "source": [
        "print(array_2d)"
      ]
    },
    {
      "cell_type": "code",
      "execution_count": null,
      "metadata": {
        "colab": {
          "base_uri": "https://localhost:8080/"
        },
        "id": "E-7xLeIpV3wa",
        "outputId": "e4a97a8f-883a-4f19-a839-286f74843060"
      },
      "outputs": [],
      "source": [
        "# Dot product\n",
        "dot_product = np.dot(array_2d, array_2d.T)\n",
        "print(dot_product)"
      ]
    },
    {
      "cell_type": "markdown",
      "metadata": {
        "id": "PNdptyaotZI7"
      },
      "source": [
        "##### Index and Slicing"
      ]
    },
    {
      "cell_type": "code",
      "execution_count": null,
      "metadata": {
        "colab": {
          "base_uri": "https://localhost:8080/"
        },
        "id": "Svq-_VA7xwH1",
        "outputId": "2ed692b3-680a-4e2e-d343-ce9620bdea64"
      },
      "outputs": [],
      "source": [
        "print(array_1d)"
      ]
    },
    {
      "cell_type": "code",
      "execution_count": null,
      "metadata": {
        "colab": {
          "base_uri": "https://localhost:8080/"
        },
        "id": "UfTcrW8otYzm",
        "outputId": "1ad622bd-9ee6-411e-b73a-8c3068849637"
      },
      "outputs": [],
      "source": [
        "# Accessing elements\n",
        "element = array_1d[2]  # Third element\n",
        "print(element)"
      ]
    },
    {
      "cell_type": "code",
      "execution_count": null,
      "metadata": {
        "colab": {
          "base_uri": "https://localhost:8080/"
        },
        "id": "ouWGtKH6tcki",
        "outputId": "cce36563-705d-4268-9ef2-e856dbdbcf09"
      },
      "outputs": [],
      "source": [
        "# Slicing arrays\n",
        "sliced_array = array_1d[1:4]  # Elements from index 1 to 3\n",
        "print(sliced_array)"
      ]
    },
    {
      "cell_type": "markdown",
      "metadata": {
        "id": "qJ7xNKYhyMGd"
      },
      "source": [
        "### Pandas"
      ]
    },
    {
      "cell_type": "markdown",
      "metadata": {
        "id": "sjYO1qoJySjZ"
      },
      "source": [
        "Pandas is a powerful data manipulation and analysis library built on top of NumPy. It provides data structures like Series and DataFrame that are ideal for handling and analyzing structured data."
      ]
    },
    {
      "cell_type": "markdown",
      "metadata": {
        "id": "QbGgX4ptyWCh"
      },
      "source": [
        "##### import Pandas"
      ]
    },
    {
      "cell_type": "code",
      "execution_count": null,
      "metadata": {
        "id": "tAgSj1dEyOcS"
      },
      "outputs": [],
      "source": [
        "import pandas as pd"
      ]
    },
    {
      "cell_type": "markdown",
      "metadata": {
        "id": "zIB-uJ58yc_Z"
      },
      "source": [
        "##### Creating a DataFrames"
      ]
    },
    {
      "cell_type": "code",
      "execution_count": null,
      "metadata": {
        "id": "eiz_WTdTyY3B"
      },
      "outputs": [],
      "source": [
        "# Create a DataFrame from a dictionary\n",
        "data = {'Name': ['Alice', 'Bob', 'Charlie'],\n",
        "        'Age': [25, 30, 35],\n",
        "        'Score': [85, 90, 95]}\n",
        "df = pd.DataFrame(data)"
      ]
    },
    {
      "cell_type": "code",
      "execution_count": null,
      "metadata": {
        "colab": {
          "base_uri": "https://localhost:8080/"
        },
        "id": "imVVf93Ryln-",
        "outputId": "cc68a10d-4bf6-4cd9-e2e9-a023cc0ea591"
      },
      "outputs": [],
      "source": [
        "print(df)"
      ]
    },
    {
      "cell_type": "markdown",
      "metadata": {
        "id": "Cafpvv43yxPD"
      },
      "source": [
        "##### Loading Data"
      ]
    },
    {
      "cell_type": "code",
      "execution_count": null,
      "metadata": {
        "id": "XpQbAcsNyzEJ"
      },
      "outputs": [],
      "source": [
        "# Load a CSV file\n",
        "df = pd.read_csv('data.csv')\n",
        "\n",
        "# Load an Excel file\n",
        "df = pd.read_excel('data.xlsx')\n"
      ]
    },
    {
      "cell_type": "markdown",
      "metadata": {
        "id": "Fb2tfiNby8eR"
      },
      "source": [
        "##### Data Exploration"
      ]
    },
    {
      "cell_type": "code",
      "execution_count": null,
      "metadata": {
        "colab": {
          "base_uri": "https://localhost:8080/"
        },
        "id": "thMvxqUVy_1d",
        "outputId": "659e9bef-c411-413d-ed2f-29afbdebc5dc"
      },
      "outputs": [],
      "source": [
        "# View the first few rows\n",
        "print(df.head())"
      ]
    },
    {
      "cell_type": "code",
      "execution_count": null,
      "metadata": {
        "colab": {
          "base_uri": "https://localhost:8080/"
        },
        "id": "izS0ALwXzDN9",
        "outputId": "2674a587-d189-4900-f16f-ef94e63fcdcf"
      },
      "outputs": [],
      "source": [
        "# Summary statistics\n",
        "print(df.describe())"
      ]
    },
    {
      "cell_type": "code",
      "execution_count": null,
      "metadata": {
        "colab": {
          "base_uri": "https://localhost:8080/"
        },
        "id": "lFBzGQm0zD2F",
        "outputId": "c5640d0a-1129-4542-e1f8-3c90e897fec6"
      },
      "outputs": [],
      "source": [
        "# Data types of columns\n",
        "print(df.dtypes)"
      ]
    },
    {
      "cell_type": "markdown",
      "metadata": {
        "id": "S4thIQ_SzXs9"
      },
      "source": [
        "##### Data Manipulation"
      ]
    },
    {
      "cell_type": "code",
      "execution_count": null,
      "metadata": {
        "id": "h6JKKYw4zZt9"
      },
      "outputs": [],
      "source": [
        "# Selecting columns\n",
        "age_column = df['Age']\n",
        "\n",
        "# Filtering rows\n",
        "filtered_df = df[df['Age'] > 30]\n",
        "\n",
        "# Adding a new column\n",
        "df['Pass'] = df['Score'] > 90"
      ]
    },
    {
      "cell_type": "code",
      "execution_count": null,
      "metadata": {
        "colab": {
          "base_uri": "https://localhost:8080/"
        },
        "id": "Llld6vh1zdKh",
        "outputId": "2bdda80f-5142-4c07-db3a-f3646878bae7"
      },
      "outputs": [],
      "source": [
        "print(age_column)"
      ]
    },
    {
      "cell_type": "code",
      "execution_count": null,
      "metadata": {
        "colab": {
          "base_uri": "https://localhost:8080/"
        },
        "id": "7OY_mQ09zkEa",
        "outputId": "5508868d-f1d2-4b4e-ea50-fcf8feb69590"
      },
      "outputs": [],
      "source": [
        "print(filtered_df)"
      ]
    },
    {
      "cell_type": "code",
      "execution_count": null,
      "metadata": {
        "colab": {
          "base_uri": "https://localhost:8080/"
        },
        "id": "r1YY98zSztLF",
        "outputId": "a4673cc0-600a-425c-9294-8dafedab5987"
      },
      "outputs": [],
      "source": [
        "print(df)"
      ]
    }
  ],
  "metadata": {
    "colab": {
      "provenance": []
    },
    "kernelspec": {
      "display_name": "Python 3",
      "name": "python3"
    },
    "language_info": {
      "codemirror_mode": {
        "name": "ipython",
        "version": 3
      },
      "file_extension": ".py",
      "mimetype": "text/x-python",
      "name": "python",
      "nbconvert_exporter": "python",
      "pygments_lexer": "ipython3",
      "version": "3.12.1"
    }
  },
  "nbformat": 4,
  "nbformat_minor": 0
}
